{
 "cells": [
  {
   "attachments": {},
   "cell_type": "markdown",
   "id": "e904f90d-2d64-4f62-bc7c-c3535901c5a6",
   "metadata": {},
   "source": [
    "Q1) State differences between Numpy Array and lists. \n",
    "\n",
    "Data Type Consistency:\n",
    "\r\n",
    "NumPy arrays are homogeneous; they store elements of the same data type, which allows for more efficient storage and operations.\r\n",
    "Python lists are heterogeneous; they can store elements of different data types, making them more flexible but potentially less efficient for numerical operatio\n",
    "\n",
    "ns.\r\n",
    "Memory Efficiecy:\r\n",
    "\r\n",
    "NumPy arrays are more memory efficient compared to Python lists, especially for large datasets, because they store data in contiguous memory blocks.\r\n",
    "Python lists store references to objects, which consumes more memory and leads to less efficient memory\n",
    "\n",
    " usage.\r\n",
    "Perfrmance:\r\n",
    "\r\n",
    "NumPy arrays offer faster numerical computations and operations compared to Python lists, especially for large datasets, due to their fixed data type and contiguous memory layout.\r\n",
    "Python lists are slower for numerical computations because they are dynamically typed and store references \n",
    "\n",
    "to objects.\r\n",
    "Convenience ofOperations:\r\n",
    "\r\n",
    "NumPy arrays provide a wide range of mathematical functions and operations optimized for numerical computations, such as element-wise operations, linear algebra, Fourier transforms, and random number generation.\r\n",
    "Python lists offer fewer mathematical functions and operations compared to NumPy arrays and are generally less optimized for numerica\n",
    "\n",
    "l computations.\r\n",
    "Sntax and Usage:\r\n",
    "\r\n",
    "NumPy arrays have a more concise and powerful syntax for array operations and manipulations, including slicing, indexing, reshaping, and broadcasting.\r\n",
    "Python lists have a simpler syntax for basic operations but lack the advanced functionality and convenience provid\n",
    "ed by NumPy arrays.\r\n",
    "Sze and Flexibility:\r\n",
    "\r\n",
    "NumPy arrays have a fixed size once created, and their size cannot be changed dynamically (though you can create new arrays with different sizes).\r\n",
    "Python lists are dynamic and can grow or shrink dynamically as elements are added or removed."
   ]
  },
  {
   "cell_type": "markdown",
   "id": "6261b279-5b0b-4b37-8e54-6a44d91fc2b7",
   "metadata": {},
   "source": [
    "Q2) Write a Code to create 50 evenly spaced numbers between 0 to 10."
   ]
  },
  {
   "cell_type": "code",
   "execution_count": 2,
   "id": "f20721d6-5836-4816-9a63-ce98840be06a",
   "metadata": {},
   "outputs": [
    {
     "name": "stdout",
     "output_type": "stream",
     "text": [
      "[ 0.          0.20408163  0.40816327  0.6122449   0.81632653  1.02040816\n",
      "  1.2244898   1.42857143  1.63265306  1.83673469  2.04081633  2.24489796\n",
      "  2.44897959  2.65306122  2.85714286  3.06122449  3.26530612  3.46938776\n",
      "  3.67346939  3.87755102  4.08163265  4.28571429  4.48979592  4.69387755\n",
      "  4.89795918  5.10204082  5.30612245  5.51020408  5.71428571  5.91836735\n",
      "  6.12244898  6.32653061  6.53061224  6.73469388  6.93877551  7.14285714\n",
      "  7.34693878  7.55102041  7.75510204  7.95918367  8.16326531  8.36734694\n",
      "  8.57142857  8.7755102   8.97959184  9.18367347  9.3877551   9.59183673\n",
      "  9.79591837 10.        ]\n"
     ]
    }
   ],
   "source": [
    "import numpy as np \n",
    "\n",
    "random_numbers=np.linspace(0,10,50)\n",
    "print(random_numbers)"
   ]
  },
  {
   "cell_type": "markdown",
   "id": "6bb5e14c-9643-4aa2-8424-be01f042f8e5",
   "metadata": {},
   "source": [
    "Q3) Write a Code to create an array of shape (4,5) with random samples\r\n",
    "with random seed 7. "
   ]
  },
  {
   "cell_type": "code",
   "execution_count": 8,
   "id": "d5719e3c-9b22-4156-9968-227de737d86d",
   "metadata": {},
   "outputs": [
    {
     "name": "stdout",
     "output_type": "stream",
     "text": [
      "[[0.07630829 0.77991879 0.43840923 0.72346518 0.97798951]\n",
      " [0.53849587 0.50112046 0.07205113 0.26843898 0.4998825 ]\n",
      " [0.67923    0.80373904 0.38094113 0.06593635 0.2881456 ]\n",
      " [0.90959353 0.21338535 0.45212396 0.93120602 0.02489923]]\n"
     ]
    }
   ],
   "source": [
    "#seed method we are using to fix the random number to be genrated\n",
    "\n",
    "np.random.seed(7)\n",
    "\n",
    "arr=np.random.rand(4,5)\n",
    "print(arr)"
   ]
  },
  {
   "cell_type": "markdown",
   "id": "2fb0ddcf-e0d6-4320-95ab-96c2c7f19878",
   "metadata": {},
   "source": [
    "Q4) Write a Code to reshape the array created in Q3 into shape (2,10)."
   ]
  },
  {
   "cell_type": "code",
   "execution_count": 10,
   "id": "ef9dfbf6-9929-46f3-961d-5f78eae401be",
   "metadata": {},
   "outputs": [
    {
     "name": "stdout",
     "output_type": "stream",
     "text": [
      "[[0.07630829 0.77991879 0.43840923 0.72346518 0.97798951 0.53849587\n",
      "  0.50112046 0.07205113 0.26843898 0.4998825 ]\n",
      " [0.67923    0.80373904 0.38094113 0.06593635 0.2881456  0.90959353\n",
      "  0.21338535 0.45212396 0.93120602 0.02489923]]\n"
     ]
    }
   ],
   "source": [
    "new_arr=arr.reshape(2,10)\n",
    "print(new_arr)"
   ]
  },
  {
   "cell_type": "markdown",
   "id": "dfc990e2-2476-4ea6-a316-ce9d4bdcda66",
   "metadata": {},
   "source": [
    "Q5) Create a 1D array starting from 0 ending with 100 with step size 10 and\r\n",
    "another array starting from 1000 ending with 10000 with step size 1000 and\r\n",
    "then concatenate two arrays created."
   ]
  },
  {
   "cell_type": "code",
   "execution_count": 39,
   "id": "c63119b2-7e97-466a-962b-5c36126b4472",
   "metadata": {},
   "outputs": [
    {
     "name": "stdout",
     "output_type": "stream",
     "text": [
      "[ 0 10 20 30 40 50 60 70 80 90]\n",
      "[1000 2000 3000 4000 5000 6000 7000 8000 9000]\n",
      "[   0   10   20   30   40   50   60   70   80   90 1000 2000 3000 4000\n",
      " 5000 6000 7000 8000 9000]\n",
      "<class 'numpy.ndarray'>\n"
     ]
    }
   ],
   "source": [
    "arr_1=np.arange(0,100,10)\n",
    "arr_2=np.arange(1000,10000,1000)\n",
    "arr_conn=np.concatenate([arr_1,arr_2])\n",
    "print(arr_1)\n",
    "print(arr_2)\n",
    "print(arr_conn)\n"
   ]
  },
  {
   "cell_type": "markdown",
   "id": "9147f26d-2af5-4d40-8309-bf75714c3bdb",
   "metadata": {},
   "source": [
    "Q6)  Use the array created in Q5 and replace the values less than 50 as\r\n",
    "<50. "
   ]
  },
  {
   "cell_type": "code",
   "execution_count": 42,
   "id": "1febd661-04f7-44e2-bb51-c3574e5192f3",
   "metadata": {},
   "outputs": [
    {
     "data": {
      "text/plain": [
       "array(['<50', '<50', '<50', '<50', '<50', '50', '60', '70', '80', '90',\n",
       "       '1000', '2000', '3000', '4000', '5000', '6000', '7000', '8000',\n",
       "       '9000'], dtype='<U11')"
      ]
     },
     "execution_count": 42,
     "metadata": {},
     "output_type": "execute_result"
    }
   ],
   "source": [
    "np.where(arr_conn<50,'<50',arr_conn)"
   ]
  },
  {
   "cell_type": "markdown",
   "id": "ca95de26-9186-4b3b-9381-cddc5de027dd",
   "metadata": {},
   "source": [
    "Q7) Write a Code to create 1D, 2D, and 3D arrays randomly"
   ]
  },
  {
   "cell_type": "code",
   "execution_count": 46,
   "id": "04439fa7-5ca7-4056-bf06-11d8444f72b8",
   "metadata": {},
   "outputs": [
    {
     "name": "stdout",
     "output_type": "stream",
     "text": [
      "1D array [1 2 3 4 5 6 7 8 9]\n",
      "\n",
      "\n",
      "\n",
      "\n",
      "2D array [[0.78673059 0.64078106 0.49601706 0.47305581 0.47423469]\n",
      " [0.9435772  0.73779928 0.041573   0.75778036 0.513401  ]\n",
      " [0.17842575 0.39200156 0.93959276 0.21291858 0.81329627]\n",
      " [0.40364858 0.58672092 0.18599889 0.81232251 0.58084741]]\n",
      "\n",
      "\n",
      "\n",
      "\n",
      "3D array [[[0.44693254 0.79808141 0.54427185]\n",
      "  [0.41841659 0.01915666 0.68377373]\n",
      "  [0.48809792 0.22057967 0.55054305]]\n",
      "\n",
      " [[0.52259111 0.48755248 0.26303148]\n",
      "  [0.52728579 0.98446573 0.62342345]\n",
      "  [0.62955693 0.9099729  0.96251949]]\n",
      "\n",
      " [[0.5850998  0.16489774 0.39159332]\n",
      "  [0.94455493 0.34339118 0.70507037]\n",
      "  [0.4628868  0.38679069 0.52843256]]]\n"
     ]
    }
   ],
   "source": [
    "arr_1d=np.arange(1,10)\n",
    "arr_2d=np.random.rand(4,5)\n",
    "arr_3d=np.random.rand(3,3,3)\n",
    "\n",
    "print(\"1D array\",arr_1d)\n",
    "print(\"\\n\\n\\n\")\n",
    "print(\"2D array\",arr_2d)\n",
    "print(\"\\n\\n\\n\")\n",
    "print(\"3D array\",arr_3d)\n",
    "\n"
   ]
  },
  {
   "cell_type": "markdown",
   "id": "cd8d7da5-262f-4daa-86c3-2cc9f50b6b39",
   "metadata": {},
   "source": [
    "Q8) Write a Code to create an array with 10 random integers within 100"
   ]
  },
  {
   "cell_type": "code",
   "execution_count": 47,
   "id": "71b18eb1-2330-40fa-9175-a23847f59211",
   "metadata": {},
   "outputs": [
    {
     "name": "stdout",
     "output_type": "stream",
     "text": [
      "[  0.          11.11111111  22.22222222  33.33333333  44.44444444\n",
      "  55.55555556  66.66666667  77.77777778  88.88888889 100.        ]\n"
     ]
    }
   ],
   "source": [
    "arr=np.linspace(0,100,10)\n",
    "print(arr)"
   ]
  },
  {
   "cell_type": "markdown",
   "id": "a980a571-ee30-470f-942f-ee0e97ec7a0c",
   "metadata": {},
   "source": [
    "Q9) Create an array with sample data with a shape of (5,4) with standard\r\n",
    "normal distribution with the random seed of 201. "
   ]
  },
  {
   "cell_type": "code",
   "execution_count": 49,
   "id": "3425bc3b-449d-46e7-9573-a7dde6903123",
   "metadata": {},
   "outputs": [
    {
     "name": "stdout",
     "output_type": "stream",
     "text": [
      "[[0.1139046  0.74788082 0.6110594  0.8096918 ]\n",
      " [0.71285749 0.14003681 0.26751188 0.14760445]\n",
      " [0.22806792 0.23556173 0.69002382 0.14834782]\n",
      " [0.44560583 0.70084254 0.09663865 0.88263259]\n",
      " [0.86983229 0.84459421 0.27370208 0.78567954]]\n"
     ]
    }
   ],
   "source": [
    "np.random.seed(201)\n",
    "arr9=np.random.rand(5,4)\n",
    "print(arr)\n"
   ]
  },
  {
   "cell_type": "markdown",
   "id": "7bd38edc-2c55-47e1-bca8-6e07c8ff50f6",
   "metadata": {},
   "source": [
    "Q10) Use the array from Q9 and create a Dataframe with\r\n",
    "index=['L','M','N','O','P'], columns=['A','B','C','D'] \r"
   ]
  },
  {
   "cell_type": "code",
   "execution_count": 51,
   "id": "c226b262-e52c-44ae-985d-6374ef15c5c2",
   "metadata": {},
   "outputs": [
    {
     "data": {
      "text/html": [
       "<div>\n",
       "<style scoped>\n",
       "    .dataframe tbody tr th:only-of-type {\n",
       "        vertical-align: middle;\n",
       "    }\n",
       "\n",
       "    .dataframe tbody tr th {\n",
       "        vertical-align: top;\n",
       "    }\n",
       "\n",
       "    .dataframe thead th {\n",
       "        text-align: right;\n",
       "    }\n",
       "</style>\n",
       "<table border=\"1\" class=\"dataframe\">\n",
       "  <thead>\n",
       "    <tr style=\"text-align: right;\">\n",
       "      <th></th>\n",
       "      <th>A</th>\n",
       "      <th>B</th>\n",
       "      <th>C</th>\n",
       "      <th>D</th>\n",
       "    </tr>\n",
       "  </thead>\n",
       "  <tbody>\n",
       "    <tr>\n",
       "      <th>L</th>\n",
       "      <td>0.113905</td>\n",
       "      <td>0.747881</td>\n",
       "      <td>0.611059</td>\n",
       "      <td>0.809692</td>\n",
       "    </tr>\n",
       "    <tr>\n",
       "      <th>M</th>\n",
       "      <td>0.712857</td>\n",
       "      <td>0.140037</td>\n",
       "      <td>0.267512</td>\n",
       "      <td>0.147604</td>\n",
       "    </tr>\n",
       "    <tr>\n",
       "      <th>N</th>\n",
       "      <td>0.228068</td>\n",
       "      <td>0.235562</td>\n",
       "      <td>0.690024</td>\n",
       "      <td>0.148348</td>\n",
       "    </tr>\n",
       "    <tr>\n",
       "      <th>O</th>\n",
       "      <td>0.445606</td>\n",
       "      <td>0.700843</td>\n",
       "      <td>0.096639</td>\n",
       "      <td>0.882633</td>\n",
       "    </tr>\n",
       "    <tr>\n",
       "      <th>P</th>\n",
       "      <td>0.869832</td>\n",
       "      <td>0.844594</td>\n",
       "      <td>0.273702</td>\n",
       "      <td>0.785680</td>\n",
       "    </tr>\n",
       "  </tbody>\n",
       "</table>\n",
       "</div>"
      ],
      "text/plain": [
       "          A         B         C         D\n",
       "L  0.113905  0.747881  0.611059  0.809692\n",
       "M  0.712857  0.140037  0.267512  0.147604\n",
       "N  0.228068  0.235562  0.690024  0.148348\n",
       "O  0.445606  0.700843  0.096639  0.882633\n",
       "P  0.869832  0.844594  0.273702  0.785680"
      ]
     },
     "execution_count": 51,
     "metadata": {},
     "output_type": "execute_result"
    }
   ],
   "source": [
    "import pandas as pd\n",
    "\n",
    "df=pd.DataFrame(arr9,index=['L','M','N','O','P'], columns=['A','B','C','D'])\n",
    "df.head()\n",
    "#print(df)"
   ]
  },
  {
   "cell_type": "markdown",
   "id": "6cc5fd02-732e-4342-96d7-0a388b64958a",
   "metadata": {},
   "source": [
    "Q11) Find the most frequent value in an numpy 1D array. Use array x =\r\n",
    "np.array([10,20,66,20,10,30,50,60,70,60,66,12,13,66])."
   ]
  },
  {
   "cell_type": "code",
   "execution_count": 55,
   "id": "8274240e-7794-4a6a-aacc-ffd63076c504",
   "metadata": {},
   "outputs": [
    {
     "data": {
      "text/plain": [
       "66"
      ]
     },
     "execution_count": 55,
     "metadata": {},
     "output_type": "execute_result"
    }
   ],
   "source": [
    "arr_1=np.array([10,20,66,20,10,30,50,60,70,60,66,12,13,66])\n",
    "np.argmax(np.bincount(arr_1))\n"
   ]
  },
  {
   "cell_type": "markdown",
   "id": "aacc2ddc-ce42-45af-8571-a60fda10b578",
   "metadata": {},
   "source": [
    "Q11) Find the most frequent value in an numpy 1D array. Use array x =\r\n",
    "np.array([10,20,66,20,10,30,50,60,70,60,66,12,13,66])"
   ]
  },
  {
   "cell_type": "code",
   "execution_count": 57,
   "id": "67a8548a-b74a-4b94-a509-b20bc63b0a88",
   "metadata": {},
   "outputs": [
    {
     "data": {
      "text/plain": [
       "array([10, 20, 66, 20, 10, 30, 50, 60, 70, 60, 66, 12, 13, 66])"
      ]
     },
     "execution_count": 57,
     "metadata": {},
     "output_type": "execute_result"
    }
   ],
   "source": [
    "arr11=np.array([10,20,66,20,10,30,50,60,70,60,66,12,13,66])\n",
    "arr11.flatten()"
   ]
  },
  {
   "cell_type": "code",
   "execution_count": null,
   "id": "01bd29e4-2425-4477-9f6b-f2bdd5da102b",
   "metadata": {},
   "outputs": [],
   "source": []
  }
 ],
 "metadata": {
  "kernelspec": {
   "display_name": "Python 3 (ipykernel)",
   "language": "python",
   "name": "python3"
  },
  "language_info": {
   "codemirror_mode": {
    "name": "ipython",
    "version": 3
   },
   "file_extension": ".py",
   "mimetype": "text/x-python",
   "name": "python",
   "nbconvert_exporter": "python",
   "pygments_lexer": "ipython3",
   "version": "3.11.4"
  }
 },
 "nbformat": 4,
 "nbformat_minor": 5
}
